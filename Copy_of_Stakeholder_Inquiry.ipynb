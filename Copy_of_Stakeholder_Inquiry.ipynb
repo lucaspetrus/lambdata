{
  "nbformat": 4,
  "nbformat_minor": 0,
  "metadata": {
    "colab": {
      "name": "Copy of Stakeholder Inquiry",
      "provenance": [],
      "authorship_tag": "ABX9TyO9ny1LGAivVeb3qMCt8Kv/",
      "include_colab_link": true
    },
    "kernelspec": {
      "name": "python3",
      "display_name": "Python 3"
    }
  },
  "cells": [
    {
      "cell_type": "markdown",
      "metadata": {
        "id": "view-in-github",
        "colab_type": "text"
      },
      "source": [
        "<a href=\"https://colab.research.google.com/github/lucaspetrus/lambdata/blob/master/Copy_of_Stakeholder_Inquiry.ipynb\" target=\"_parent\"><img src=\"https://colab.research.google.com/assets/colab-badge.svg\" alt=\"Open In Colab\"/></a>"
      ]
    },
    {
      "cell_type": "code",
      "metadata": {
        "id": "pV0c30LOTPAF"
      },
      "source": [
        ""
      ],
      "execution_count": null,
      "outputs": []
    },
    {
      "cell_type": "markdown",
      "metadata": {
        "id": "rU-nvreDTPdZ"
      },
      "source": [
        "**What questions did you ask your stakeholder that helped in breaking down your tasks?**\n",
        "\n",
        "\n",
        "\n",
        "-We were unable to meet with our stakeholder, but were able to genereate good discussion in regards to the direction of the project. A few main issues arose, one of which was what do we do in the event an uploaded document needs to be modified or changed? and how could this create a dangerous situation in the event the wrong hands get account information from an admin?\n",
        "\n",
        "-Another question that some of us thought was important, was what happens if someone wants to remove a document in its entirety. Maybe a judge is showing zero correlation with making bad calls when it comes to allowing asylum. It could just create unnecessary clutter while searching judges. \n",
        "\n",
        "\n",
        "**What user stories did you draw from to create your product roadmap? List them below.**\n",
        "-How to upload a csv/pdf file and how to make a path for it\n",
        "-Where should the different types of searches be to find a file\n",
        "-Should their be a rating system to rate the usefulness of a case\n",
        "\n",
        "**Select your favorite user story. What are the tasks that need to be accomplished in order to ship that particular user story?**\n",
        "\n",
        "--as a user i can perform complex searches combining various vields to find data relevant to my current case. the challenges of this are having to take several user inputs into account while most likely writing a SQL query, this also is going to need an refresh route to the database so as information is input from other sectors of our application we can refilter the responses to this aspect of our design\n",
        "\n",
        "**After what you've learned in this process, given a new product roadmap, how would you approach it differently? What would you change about the way you go about breaking down individual tasks?**\n",
        "\n",
        "-Always focus on the front end first, and until you have the entirety of the front end laid out dont do anything else. The backend and DS can be done at the end once we know what the layout is, and you can always remove things from the front end later on if the backend and DS cant figure out a way to get the data to be outputed. Front End is the key for product roadmaps"
      ]
    },
    {
      "cell_type": "code",
      "metadata": {
        "id": "Zi0d-8diT-QI"
      },
      "source": [
        ""
      ],
      "execution_count": null,
      "outputs": []
    }
  ]
}